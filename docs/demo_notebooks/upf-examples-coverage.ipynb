{
 "cells": [
  {
   "cell_type": "markdown",
   "id": "8f36534c-413a-489c-b166-3f2b6bbc129e",
   "metadata": {},
   "source": [
    "# Coverage test for `paraspace` planner\n",
    "\n",
    "Here, we take the standard test problems from `unified-planning` and check whether the `paraspace` planner can solve them with the translation implemented in the `up-paraspace` package.\n",
    "\n",
    "First, some imports:"
   ]
  },
  {
   "cell_type": "code",
   "execution_count": 9,
   "id": "f25c7bf8-b59d-4613-b4d4-9144f9512be3",
   "metadata": {},
   "outputs": [
    {
     "name": "stdout",
     "output_type": "stream",
     "text": [
      "Requirement already satisfied: unified-planning in ./env/lib/python3.10/site-packages (1.0.0)\n",
      "Requirement already satisfied: up-paraspace in ./env/lib/python3.10/site-packages (0.0.12)\n",
      "Requirement already satisfied: pyparsing in ./env/lib/python3.10/site-packages (from unified-planning) (3.1.1)\n",
      "Requirement already satisfied: networkx in ./env/lib/python3.10/site-packages (from unified-planning) (3.2.1)\n",
      "Requirement already satisfied: pyparaspace==0.1.8 in ./env/lib/python3.10/site-packages (from up-paraspace) (0.1.8)\n",
      "Requirement already satisfied: up-pyperplan~=1.0 in ./env/lib/python3.10/site-packages (from up-paraspace) (1.0.0)\n",
      "Requirement already satisfied: pyperplan==2.1 in ./env/lib/python3.10/site-packages (from up-pyperplan~=1.0->up-paraspace) (2.1)\n",
      "Requirement already satisfied: wheel in ./env/lib/python3.10/site-packages (from pyperplan==2.1->up-pyperplan~=1.0->up-paraspace) (0.41.3)\n"
     ]
    }
   ],
   "source": [
    "!pip install unified-planning up-paraspace\n",
    "import unified_planning as up\n",
    "from unified_planning.shortcuts import *\n",
    "from unified_planning.test.examples.realistic import get_example_problems as realistic_examples\n",
    "from unified_planning.test.examples.minimals import get_example_problems as minimal_examples\n",
    "from unified_planning.engines.results import ValidationResultStatus\n",
    "from up_paraspace import *\n",
    "import time\n"
   ]
  },
  {
   "cell_type": "markdown",
   "id": "56a1d9ae-6814-4574-b025-a5163c14b573",
   "metadata": {},
   "source": [
    "Then we create a function to solve a problem using `paraspace`. If the resulting plan is equal to the example plan, then we are good. If not, we try the `sequential_plan_validator` and return its validity status."
   ]
  },
  {
   "cell_type": "code",
   "execution_count": 10,
   "id": "690cfc45-882b-4920-ac6d-b66a6599a564",
   "metadata": {},
   "outputs": [],
   "source": [
    "def run_example(example):\n",
    "    planner = OneshotPlanner(name=\"paraspace\")\n",
    "    result = planner.solve(example.problem)\n",
    "    plan = result.plan\n",
    "        \n",
    "    if plan == example.plan:\n",
    "        return True\n",
    "\n",
    "    with PlanValidator(name=\"sequential_plan_validator\") as pv:\n",
    "        validation_result = pv.validate(example.problem, plan)\n",
    "        if validation_result.status == ValidationResultStatus.UNKNOWN:\n",
    "            raise Exception(f\"Plan validator failed to conclude.\")\n",
    "\n",
    "        return validation_result.status == ValidationResultStatus.VALID\n"
   ]
  },
  {
   "cell_type": "markdown",
   "id": "249eaef3-9d6c-4ef1-8257-f956e61feee3",
   "metadata": {},
   "source": [
    "Fetch some relevant example problems from `unified_planning.test.examples.{minimals, realistic}`."
   ]
  },
  {
   "cell_type": "code",
   "execution_count": 11,
   "id": "79364f4f-1f00-41c9-93c4-e52faf1460f9",
   "metadata": {},
   "outputs": [],
   "source": [
    "examples = {}\n",
    "examples.update({ \"minimal_\" + k: v for k,v in minimal_examples().items()})\n",
    "examples.update({ \"realistic_\" + k: v for k,v in realistic_examples().items()})"
   ]
  },
  {
   "cell_type": "markdown",
   "id": "065d2a48-6418-4f32-a563-dc685be7aa96",
   "metadata": {},
   "source": [
    "Go through each of the examples and print a success or failure status."
   ]
  },
  {
   "cell_type": "code",
   "execution_count": 12,
   "id": "3f7d2076-0c8b-435d-93b4-be75391f6cbc",
   "metadata": {},
   "outputs": [
    {
     "name": "stdout",
     "output_type": "stream",
     "text": [
      " ✅ minimal_basic successful\n",
      " ✅ minimal_basic_conditional successful\n",
      " ✅ minimal_basic_oversubscription successful\n",
      " ✅ minimal_complex_conditional successful\n",
      " ✅ minimal_basic_without_negative_preconditions successful\n",
      " ✅ minimal_basic_nested_conjunctions successful\n",
      " ❌ minimal_basic_exists failed with error:No converters succeeded in translating the problem to paraspace.\n",
      " ❌ minimal_basic_forall failed with error:No converters succeeded in translating the problem to paraspace.\n",
      " ❌ minimal_temporal_conditional failed with error:No converters succeeded in translating the problem to paraspace.\n",
      " ✅ minimal_basic_with_costs successful\n",
      " ❌ minimal_counter failed with error:'integer[0, 10]'\n",
      " ❌ minimal_counter_to_50 failed with error:'integer[0, 100]'\n",
      " ✅ minimal_basic_with_object_constant successful\n",
      " ❌ realistic_robot failed with error:'real[0, 100]'\n",
      " ✅ realistic_robot_fluent_of_user_type successful\n",
      " ✅ realistic_robot_no_negative_preconditions successful\n",
      " ❌ realistic_robot_decrease failed with error:'real[0, 100]'\n"
     ]
    },
    {
     "name": "stderr",
     "output_type": "stream",
     "text": [
      "/home/bjornarl/repos/utips/underwater/env/lib/python3.10/site-packages/unified_planning/engines/mixins/oneshot_planner.py:76: UserWarning: We cannot establish whether paraspace can solve this problem!\n",
      "  warn(msg)\n",
      "/home/bjornarl/repos/utips/underwater/env/lib/python3.10/site-packages/unified_planning/engines/mixins/oneshot_planner.py:76: UserWarning: We cannot establish whether paraspace can solve this problem!\n",
      "  warn(msg)\n",
      "/home/bjornarl/repos/utips/underwater/env/lib/python3.10/site-packages/unified_planning/engines/mixins/oneshot_planner.py:76: UserWarning: We cannot establish whether paraspace can solve this problem!\n",
      "  warn(msg)\n"
     ]
    },
    {
     "name": "stdout",
     "output_type": "stream",
     "text": [
      " ✅ realistic_robot_loader successful\n",
      " ✅ realistic_robot_loader_mod successful\n",
      " ✅ realistic_robot_loader_adv successful\n",
      " ❌ realistic_robot_locations_connected failed with error:'real[0, 100]'\n",
      " ❌ realistic_robot_locations_visited failed with error:'real[0, 100]'\n",
      " ❌ realistic_charge_discharge failed with error:No converters succeeded in translating the problem to paraspace.\n",
      " ❌ realistic_matchcellar failed with error:No converters succeeded in translating the problem to paraspace.\n",
      " ❌ realistic_timed_connected_locations failed with error:No converters succeeded in translating the problem to paraspace.\n",
      "Not supported parameter for grounding fluent\n",
      " ❌ realistic_hierarchical_blocks_world failed with error:tuple index out of range\n",
      "No available engine supports all the problem features:\n",
      "-------------------------------------------------------------------------------------------------------------------------------------------\n",
      "| Engine                               | FLAT_TYPING | NEGATIVE_CONDITIONS | STATIC_FLUENTS_IN_DURATIONS | CONTINUOUS_TIME | ACTION_BASED |\n",
      "===========================================================================================================================================\n",
      "| pyperplan                            | True        | False               | False                       | False           | True         |\n",
      "-------------------------------------------------------------------------------------------------------------------------------------------\n",
      "| pyperplan-opt                        | True        | False               | False                       | False           | True         |\n",
      "-------------------------------------------------------------------------------------------------------------------------------------------\n",
      "| up_bounded_types_remover             | True        | True                | False                       | True            | True         |\n",
      "-------------------------------------------------------------------------------------------------------------------------------------------\n",
      "| up_conditional_effects_remover       | True        | True                | False                       | True            | True         |\n",
      "-------------------------------------------------------------------------------------------------------------------------------------------\n",
      "| up_disjunctive_conditions_remover    | True        | True                | False                       | True            | True         |\n",
      "-------------------------------------------------------------------------------------------------------------------------------------------\n",
      "| up_ma_disjunctive_conditions_remover | True        | True                | False                       | True            | False        |\n",
      "-------------------------------------------------------------------------------------------------------------------------------------------\n",
      "| up_ma_conditional_effects_remover    | True        | True                | False                       | True            | False        |\n",
      "-------------------------------------------------------------------------------------------------------------------------------------------\n",
      "| up_negative_conditions_remover       | True        | True                | False                       | True            | True         |\n",
      "-------------------------------------------------------------------------------------------------------------------------------------------\n",
      "| up_quantifiers_remover               | True        | True                | False                       | True            | True         |\n",
      "-------------------------------------------------------------------------------------------------------------------------------------------\n",
      "| up_state_invariants_remover          | True        | True                | False                       | True            | True         |\n",
      "-------------------------------------------------------------------------------------------------------------------------------------------\n",
      "| up_usertype_fluents_remover          | True        | True                | True                        | True            | True         |\n",
      "-------------------------------------------------------------------------------------------------------------------------------------------\n",
      "| up_grounder                          | True        | True                | True                        | True            | True         |\n",
      "-------------------------------------------------------------------------------------------------------------------------------------------\n",
      " ❌ realistic_robot_with_static_fluents_duration failed with error:'real'\n",
      "No available engine supports all the problem features:\n",
      "---------------------------------------------------------------------------------------------------------------------------------------------------------\n",
      "| Engine                               | FLAT_TYPING | NEGATIVE_CONDITIONS | STATIC_FLUENTS_IN_DURATIONS | CONTINUOUS_TIME | ACTION_BASED | TIMED_GOALS |\n",
      "=========================================================================================================================================================\n",
      "| pyperplan                            | True        | False               | False                       | False           | True         | False       |\n",
      "---------------------------------------------------------------------------------------------------------------------------------------------------------\n",
      "| pyperplan-opt                        | True        | False               | False                       | False           | True         | False       |\n",
      "---------------------------------------------------------------------------------------------------------------------------------------------------------\n",
      "| up_bounded_types_remover             | True        | True                | False                       | True            | True         | True        |\n",
      "---------------------------------------------------------------------------------------------------------------------------------------------------------\n",
      "| up_conditional_effects_remover       | True        | True                | False                       | True            | True         | True        |\n",
      "---------------------------------------------------------------------------------------------------------------------------------------------------------\n",
      "| up_disjunctive_conditions_remover    | True        | True                | False                       | True            | True         | True        |\n",
      "---------------------------------------------------------------------------------------------------------------------------------------------------------\n",
      "| up_ma_disjunctive_conditions_remover | True        | True                | False                       | True            | False        | True        |\n",
      "---------------------------------------------------------------------------------------------------------------------------------------------------------\n",
      "| up_ma_conditional_effects_remover    | True        | True                | False                       | True            | False        | True        |\n",
      "---------------------------------------------------------------------------------------------------------------------------------------------------------\n",
      "| up_negative_conditions_remover       | True        | True                | False                       | True            | True         | True        |\n",
      "---------------------------------------------------------------------------------------------------------------------------------------------------------\n",
      "| up_quantifiers_remover               | True        | True                | False                       | True            | True         | True        |\n",
      "---------------------------------------------------------------------------------------------------------------------------------------------------------\n",
      "| up_state_invariants_remover          | True        | True                | False                       | True            | True         | True        |\n",
      "---------------------------------------------------------------------------------------------------------------------------------------------------------\n",
      "| up_usertype_fluents_remover          | True        | True                | True                        | True            | True         | True        |\n",
      "---------------------------------------------------------------------------------------------------------------------------------------------------------\n",
      "| up_grounder                          | True        | True                | True                        | True            | True         | True        |\n",
      "---------------------------------------------------------------------------------------------------------------------------------------------------------\n",
      " ❌ realistic_robot_with_static_fluents_duration_timed_goals failed with error:'real'\n",
      " ❌ realistic_travel failed with error:'integer[0, 500]'\n",
      " ❌ realistic_safe_road failed with error:No converters succeeded in translating the problem to paraspace.\n",
      "Solved 13/30\n"
     ]
    },
    {
     "name": "stderr",
     "output_type": "stream",
     "text": [
      "/home/bjornarl/repos/utips/underwater/env/lib/python3.10/site-packages/unified_planning/engines/mixins/oneshot_planner.py:76: UserWarning: We cannot establish whether paraspace can solve this problem!\n",
      "  warn(msg)\n"
     ]
    }
   ],
   "source": [
    "up.shortcuts.get_environment().credits_stream = None\n",
    "n_ok = 0\n",
    "for name, example in examples.items():\n",
    "    try:\n",
    "        ok = run_example(example)\n",
    "        if ok:\n",
    "            n_ok += 1\n",
    "            print(f\" ✅ {name} successful\")\n",
    "        else:\n",
    "            print(f\" ❌ {name} gave incorrect plan.\")\n",
    "    except Exception as e:\n",
    "        msg = str(e).split(\"\\n\")[0]\n",
    "        print(f\" ❌ {name} failed with error:{msg}\")\n",
    "        \n",
    "print(f\"Solved {n_ok}/{len(examples)}\")"
   ]
  },
  {
   "cell_type": "code",
   "execution_count": null,
   "id": "6caf9781-1e99-4ffc-8974-42a4c3e31162",
   "metadata": {},
   "outputs": [],
   "source": []
  }
 ],
 "metadata": {
  "kernelspec": {
   "display_name": "Python 3 (ipykernel)",
   "language": "python",
   "name": "python3"
  },
  "language_info": {
   "codemirror_mode": {
    "name": "ipython",
    "version": 3
   },
   "file_extension": ".py",
   "mimetype": "text/x-python",
   "name": "python",
   "nbconvert_exporter": "python",
   "pygments_lexer": "ipython3",
   "version": "3.10.12"
  }
 },
 "nbformat": 4,
 "nbformat_minor": 5
}
