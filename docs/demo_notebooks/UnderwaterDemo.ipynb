{
 "cells": [
  {
   "attachments": {},
   "cell_type": "markdown",
   "id": "8f533c79-16b8-4815-bff0-0c63c7a5e8a3",
   "metadata": {},
   "source": [
    "<img src=\"./imgs/sub_small.png\" style=\"float:left;margin:1em;height:75px; background-color:white;\">\n",
    "\n",
    "# Inspection planning with an Autonomous Underwater vehicle (AUV)\n",
    "\n",
    "<div style=\"clear:both;\"></div>\n",
    "\n",
    "This Python notebook describes a planning problem concerning an unmanned autonomous inspection mission and demonstrates how to describe this planning problem in the [Unified Planning Framework](https://www.ai4europe.eu/research/ai-catalog/unified-planning-framework) and to find plans using the [Paraspace](https://github.com/SINTEF/paraspace) timelines planner.\n",
    "\n",
    "## Problem description\n",
    "\n",
    "We are in charge of planning the daily route of an autonomous underwater vehicle (AUV) doing inspections and maintenance on underwater equipment. The equipment is located along the coastline of a bay, with a base located offshore. 3D coordinates are given for the relevant locations. At different times of the day, the ocean current changes direction and influences the time it takes to travel between the locations. The AUV can flow along with the tides when going in or out for an easy ride or struggle against the tide if planned poorly. Furthermore, we have time windows dictating when inspection/maintenance can be performed. An example route for our AUV can be illustrated thusly:\n",
    "\n",
    "<img src=\"./imgs/coast.png\" style=\"width:80%; margin:auto;\" />\n",
    "\n",
    "The code below implements this planning problem using the Unified Planning Framework.\n"
   ]
  },
  {
   "cell_type": "markdown",
   "id": "f9d07677-73a9-4f4f-afef-b70584370544",
   "metadata": {},
   "source": [
    "## Setup\n",
    "\n",
    "First, we need to make sure that the `unified-planning` and `up-paraspace` packages are installed."
   ]
  },
  {
   "cell_type": "code",
   "execution_count": 1,
   "id": "21162e6b",
   "metadata": {},
   "outputs": [
    {
     "name": "stdout",
     "output_type": "stream",
     "text": [
      "Collecting unified-planning\n",
      "  Using cached unified_planning-1.0.0-py3-none-any.whl (635 kB)\n",
      "Collecting up-paraspace\n",
      "  Using cached up_paraspace-0.0.12-py3-none-any.whl (15 kB)\n",
      "Collecting pyparsing\n",
      "  Using cached pyparsing-3.1.1-py3-none-any.whl (103 kB)\n",
      "Collecting networkx\n",
      "  Using cached networkx-3.2.1-py3-none-any.whl (1.6 MB)\n",
      "Collecting pyparaspace==0.1.8\n",
      "  Using cached pyparaspace-0.1.8-cp310-cp310-manylinux_2_17_x86_64.manylinux2014_x86_64.whl (9.6 MB)\n",
      "Collecting up-pyperplan~=1.0\n",
      "  Using cached up_pyperplan-1.0.0-py3-none-any.whl (12 kB)\n",
      "Collecting pyperplan==2.1\n",
      "  Using cached pyperplan-2.1-py2.py3-none-any.whl (69 kB)\n",
      "Collecting wheel\n",
      "  Using cached wheel-0.41.3-py3-none-any.whl (65 kB)\n",
      "Installing collected packages: wheel, pyparsing, pyparaspace, networkx, unified-planning, pyperplan, up-pyperplan, up-paraspace\n",
      "Successfully installed networkx-3.2.1 pyparaspace-0.1.8 pyparsing-3.1.1 pyperplan-2.1 unified-planning-1.0.0 up-paraspace-0.0.12 up-pyperplan-1.0.0 wheel-0.41.3\n"
     ]
    }
   ],
   "source": [
    "!pip install unified-planning up-paraspace"
   ]
  },
  {
   "cell_type": "markdown",
   "id": "005765ff-d5f8-42b2-a962-d3d7cf53dfff",
   "metadata": {},
   "source": [
    "## Defining the problem\n",
    "\n",
    "Next, we'll make some data classes to represent a general form of the problem outlined above. Locations will be referred to by name (a string), and the problem definition includes a dictionary associating these location names with their 3D coordinates. Points in time are described using the `datetime` class and time durations are described using the `timedelta` class from the Python standard library. Changes in ocean current speed will be described as a list of `OceanCurrentChange`, where each entry has a point in time where the ocean current changes to a new value, resulting in a piece-wise constant function for the forecasted ocean current for the day.\n",
    "We assume that the ocean currents are directed either straight eastward or straight westward. Positive numbers indicate ocean current in eastward direction, negative numbers westward. Finally, the `AUVInspectionProblem` class collects all the data, including also the description of the inspections to be performed and the relevant durations and time windows in the `Job` class."
   ]
  },
  {
   "cell_type": "code",
   "execution_count": 2,
   "id": "f73c11b3-764d-4aed-9be4-6a52c8f55046",
   "metadata": {},
   "outputs": [],
   "source": [
    "from dataclasses import dataclass\n",
    "from datetime import datetime, timedelta\n",
    "\n",
    "@dataclass\n",
    "class Coord:\n",
    "    \"\"\"3D Cartesian coordinates\"\"\"\n",
    "    x: float\n",
    "    y: float\n",
    "    z: float\n",
    "\n",
    "\n",
    "@dataclass\n",
    "class AUV:\n",
    "    \"\"\"The robot, has a location and a movement speed\"\"\"\n",
    "    start_location: str\n",
    "    return_location: str | None\n",
    "    speed: float\n",
    "\n",
    "\n",
    "@dataclass\n",
    "class Job:\n",
    "    \"\"\"A job has a location, a duration and a time window that it must be performed within\"\"\"\n",
    "    location: str\n",
    "    duration: timedelta\n",
    "    earliest_start_time: datetime | None\n",
    "    latest_completion_time: datetime | None\n",
    "\n",
    "\n",
    "# Current changes are simplified to change instantly\n",
    "@dataclass\n",
    "class OceanCurrentChange:\n",
    "    \"\"\"An instantaneous change in the ocean current velocity\"\"\"\n",
    "    time: datetime\n",
    "\n",
    "    # The speed in m/s of the tide current. Positive numbers indicate\n",
    "    # current in eastward direction, negative numbers westward.\n",
    "    # The flow will be valid from the time until the next current change.\n",
    "    current_speed: float\n",
    "\n",
    "\n",
    "# The problem.\n",
    "@dataclass\n",
    "class AUVInspectionProblem:\n",
    "    start_time: datetime\n",
    "    locations: dict[str, Coord]\n",
    "    jobs: list[Job]\n",
    "    auv: AUV\n",
    "    current: list[OceanCurrentChange]\n"
   ]
  },
  {
   "cell_type": "markdown",
   "id": "504d5901-fab6-4a93-89b2-fd7f9a7dc9b8",
   "metadata": {},
   "source": [
    "## Example 1\n",
    "\n",
    "We will set up two example problem instances. The first one is the simplest possible instance, with only one job\n",
    "to be performed without time window restrictions. \n"
   ]
  },
  {
   "cell_type": "code",
   "execution_count": 3,
   "id": "8d28b050-04e1-4a9b-9a41-893948a6a028",
   "metadata": {},
   "outputs": [
    {
     "data": {
      "text/plain": [
       "AUVInspectionProblem(start_time=datetime.datetime(2000, 1, 1, 0, 0), locations={'base': Coord(x=0, y=0, z=0), 'inspection1': Coord(x=0, y=1, z=2)}, jobs=[Job(location='inspection1', duration=datetime.timedelta(seconds=300), earliest_start_time=None, latest_completion_time=None)], auv=AUV(start_location='base', return_location='base', speed=1.0), current=[OceanCurrentChange(time=datetime.datetime(2000, 1, 1, 0, 0), current_speed=0.0)])"
      ]
     },
     "execution_count": 3,
     "metadata": {},
     "output_type": "execute_result"
    }
   ],
   "source": [
    "import datetime\n",
    "\n",
    "def exampleproblem1():\n",
    "    start_time = datetime.datetime.fromisoformat(\"2000-01-01\")\n",
    "    locations = {\n",
    "        \"base\": Coord(0, 0, 0),\n",
    "        \"inspection1\": Coord(0, 1, 2),\n",
    "    }\n",
    "\n",
    "    jobs = [\n",
    "        Job(\"inspection1\", timedelta(minutes=5), None, None),\n",
    "    ]\n",
    "\n",
    "    current = [\n",
    "        OceanCurrentChange(start_time, 0.0),\n",
    "    ]\n",
    "\n",
    "    return AUVInspectionProblem(\n",
    "        start_time=start_time,\n",
    "        auv=AUV(\"base\", \"base\", 1.0),\n",
    "        locations=locations,\n",
    "        jobs=jobs,\n",
    "        current=current,\n",
    "    )\n",
    "\n",
    "\n",
    "exampleproblem1()"
   ]
  },
  {
   "cell_type": "markdown",
   "id": "adac07bd-de00-4ebb-992a-b9b20f98890b",
   "metadata": {},
   "source": [
    "## Example 2\n",
    "\n",
    "The second example is a bit more complex, with three inspections to be performed within certain time windows, and also\n",
    "with current changes during the mission period."
   ]
  },
  {
   "cell_type": "code",
   "execution_count": 4,
   "id": "1410d2d2-9b19-4c2f-b322-7b704d24adf8",
   "metadata": {},
   "outputs": [
    {
     "data": {
      "text/plain": [
       "AUVInspectionProblem(start_time=datetime.datetime(2000, 1, 1, 0, 0), locations={'base': Coord(x=0, y=0, z=0), 'inspection1': Coord(x=15, y=20, z=-2), 'inspection2': Coord(x=-10, y=10, z=-6), 'inspection3': Coord(x=-10, y=10, z=-1)}, jobs=[Job(location='inspection1', duration=datetime.timedelta(seconds=300), earliest_start_time=datetime.datetime(2000, 1, 1, 0, 30), latest_completion_time=datetime.datetime(2000, 1, 1, 0, 50)), Job(location='inspection2', duration=datetime.timedelta(seconds=300), earliest_start_time=datetime.datetime(2000, 1, 1, 0, 40), latest_completion_time=datetime.datetime(2000, 1, 1, 1, 10)), Job(location='inspection3', duration=datetime.timedelta(seconds=300), earliest_start_time=datetime.datetime(2000, 1, 1, 0, 50), latest_completion_time=datetime.datetime(2000, 1, 1, 1, 20))], auv=AUV(start_location='base', return_location='base', speed=1.5), current=[OceanCurrentChange(time=datetime.datetime(2000, 1, 1, 0, 0), current_speed=0.0), OceanCurrentChange(time=datetime.datetime(2000, 1, 1, 1, 0), current_speed=-1.0)])"
      ]
     },
     "execution_count": 4,
     "metadata": {},
     "output_type": "execute_result"
    }
   ],
   "source": [
    "def exampleproblem2():\n",
    "    start_time = datetime.datetime.fromisoformat(\"2000-01-01\")\n",
    "    locations = {\n",
    "        \"base\": Coord(0, 0, 0),\n",
    "        \"inspection1\": Coord(15, 20, -2),\n",
    "        \"inspection2\": Coord(-10, 10, -6),\n",
    "        \"inspection3\": Coord(-10, 10, -1),\n",
    "    }\n",
    "\n",
    "    jobs = [\n",
    "        Job(\"inspection1\", timedelta(minutes=5.0), start_time + timedelta(minutes=30), start_time + timedelta(minutes=50)),\n",
    "        Job(\"inspection2\", timedelta(minutes=5.0), start_time + timedelta(minutes=40), start_time + timedelta(minutes=70)),\n",
    "        Job(\"inspection3\", timedelta(minutes=5.0), start_time + timedelta(minutes=50), start_time + timedelta(minutes=80)),\n",
    "    ]\n",
    "\n",
    "    current = [\n",
    "        OceanCurrentChange(start_time, 0.0),\n",
    "        OceanCurrentChange(start_time + timedelta(minutes=60), -1.0),\n",
    "    ]\n",
    "\n",
    "    return AUVInspectionProblem(\n",
    "        start_time=start_time,\n",
    "        auv=AUV(\"base\", \"base\", 1.5),\n",
    "        locations=locations,\n",
    "        jobs=jobs,\n",
    "        current=current,\n",
    "    )\n",
    "\n",
    "exampleproblem2()"
   ]
  },
  {
   "cell_type": "markdown",
   "id": "ba125f6c-8995-4ee4-aa56-cb3072d4bc7c",
   "metadata": {},
   "source": [
    "## Computing the travel times\n",
    "Here we make the functions for calculating the travel time between two different coordinates. For a derivation of the equation used in calculate_speed(), see the [Appendix](#Calculating-travel-times)."
   ]
  },
  {
   "cell_type": "code",
   "execution_count": 5,
   "id": "a03c5c07-c727-430e-a393-0c8348436a41",
   "metadata": {},
   "outputs": [],
   "source": [
    "from math import sin,cos,sqrt,pow,atan2\n",
    "\n",
    "def calculate_speed(auv_speed :float, current_speed :float, theta :float, phi :float) -> float:\n",
    "    return current_speed * sin(theta) * cos(phi) + (sqrt( pow(current_speed,2) * pow(sin(theta),2) * pow(cos(phi),2) + pow(auv_speed,2) - pow(current_speed,2)))\n",
    "\n",
    "def calculate_travel_time(a :Coord, b :Coord, auv_speed :float, current_speed :float) -> float:\n",
    "    distance = sqrt(pow(b.x-a.x,2) + pow(b.y-a.y,2) + pow(b.z-a.z,2) )\n",
    "    theta = atan2(b.y-a.y,b.x-a.x)\n",
    "    phi = atan2(b.z-a.z, sqrt(pow(b.x-a.x, 2) + pow(b.y-a.y, 2) ))\n",
    "    speed = calculate_speed(auv_speed, current_speed, theta, phi)\n",
    "    return distance/speed\n"
   ]
  },
  {
   "cell_type": "markdown",
   "id": "10a719df-87b9-4fdb-83f1-5e4b6d87fe1c",
   "metadata": {},
   "source": [
    "Here is an example of travel time computations. If the current speed is 2.0 m/s (in positive $y$ direction), \n",
    "and we are going from $x_0,y_0,z_0 = 0,0,0$ to $x_1,y_1,z_1 = 100,100,100$, and the AUV speed is 3.0 m/s, it will take $\\approx 47$ seconds to travel that distance."
   ]
  },
  {
   "cell_type": "code",
   "execution_count": 6,
   "id": "8fee1817-4d66-487c-b5e2-912858fd4569",
   "metadata": {},
   "outputs": [
    {
     "data": {
      "text/plain": [
       "47.17797887081347"
      ]
     },
     "execution_count": 6,
     "metadata": {},
     "output_type": "execute_result"
    }
   ],
   "source": [
    "calculate_travel_time(Coord(0,0,0), Coord(100,100,100), 3, 2)"
   ]
  },
  {
   "cell_type": "markdown",
   "id": "a4ae74e8",
   "metadata": {},
   "source": [
    "## Translating to Unified Planning Framework\n",
    "\n",
    "Now we are ready to translate the `AUVInspectionProblem` into a `unified-planning` `Problem`.\n",
    "The function `solve` takes the `AUVInspectionProblem` and returns a solution plan. Inside the function,\n",
    "the conversion of the problem into the `unified-planning` problem definition is done through the following steps:\n",
    "\n",
    " * Adding finite domain types (`UserType`) for representing locations, jobs, job status (ready/processing/done), \n",
    "current speed periods, time window status (inside/outside the time window).\n",
    " * Adding **static fluents** describing the state changes that we have no control over, i.e. the time windows and the\n",
    "ocean current changes. Time and duration values are rounded to integer minutes.\n",
    " * Adding location actions describing the transition between each pair of locations. This is where the `calculate_travel_time` function is used. We are assuming that the current doesn't change while the AUV is moving. This might become a problem if the current changes many times.\n",
    " * Adding inspection actions describing the conditions for performing the `Job`s.\n",
    " * Finally, adding goals saying that all `Job`s should be `Done` and the AUV should be at the `return_location` at the end of the planning horizon.\n",
    "\n",
    "For several of the features of this planning problem, there are multiple ways to translate our problem definition into `unified-planning`. For this demo, we have used a style of translation that is suited for translation into the timelines-based formalism underlying the Paraspace planner. For example, the (static) time windows are not directly enforced by `add_condition` on the relevant actions, but are instead described as static fluents, and the actions have conditions that they have to happen during the *Inside* value on the *time window fluent*. Similarly, transitional location objects (e.g., being on the path between *base* and *location1*) are added so that there is a specific temporary value for the location fluent to take while the travel is happening. See the [Appendix](#Appendix) below for details on the limitation imposed by Paraspace."
   ]
  },
  {
   "cell_type": "code",
   "execution_count": 7,
   "id": "5e7f5422",
   "metadata": {},
   "outputs": [],
   "source": [
    "import datetime\n",
    "import math\n",
    "import typing\n",
    "import unified_planning\n",
    "import time\n",
    "import up_paraspace\n",
    "from unified_planning.shortcuts import *\n",
    "\n",
    "def convert_timedelta(t :timedelta) -> int:\n",
    "    \"\"\"Convert a `timedelta` to a whole number of minutes.\"\"\"\n",
    "    return int(round(t.seconds / 60.0))\n",
    "\n",
    "def solve(orig_problem: AUVInspectionProblem):\n",
    "    #\n",
    "    # We convert the AUVInspectionProblem into a unified-planning problem.\n",
    "    #\n",
    "    upf_problem = unified_planning.model.Problem(\"AUV_Inspection_Problem\")\n",
    "\n",
    "    #\n",
    "    # Locations are modelled as a fluent with an object for every possible location.\n",
    "    #\n",
    "    Location = UserType(\"Location\")\n",
    "    locations = {l: upf_problem.add_object(l, Location) for l in orig_problem.locations.keys()}\n",
    "\n",
    "    auv_location = upf_problem.add_fluent(\n",
    "        \"auv_location\", Location, default_initial_value=locations[orig_problem.auv.start_location]\n",
    "    )\n",
    "\n",
    "    #\n",
    "    # Job statuses are objects\n",
    "    #\n",
    "    JobStatusType = UserType(\"JobStatus\")\n",
    "    JobStatusReady = upf_problem.add_object(f\"Ready\", JobStatusType)\n",
    "    JobStatusProcessing = upf_problem.add_object(f\"Processing\", JobStatusType)\n",
    "    JobStatusDone = upf_problem.add_object(f\"Done\", JobStatusType)\n",
    "\n",
    "    #\n",
    "    # Jobs are objects\n",
    "    #\n",
    "    Job = UserType(\"Job\")\n",
    "    job_objs = [upf_problem.add_object(f\"job{i}\", Job) for i, _ in enumerate(orig_problem.jobs)]\n",
    "\n",
    "    job_status = upf_problem.add_fluent(\n",
    "        \"job_status\",\n",
    "        JobStatusType,\n",
    "        job=Job,\n",
    "        default_initial_value=JobStatusReady,\n",
    "    )\n",
    "\n",
    "    #\n",
    "    # Current speed periods: one object per period and one fluent to represent the current current period.\n",
    "    #\n",
    "    CurrentSpeed = UserType(\"CurrentSpeed\")\n",
    "    current_speeds = [upf_problem.add_object(f\"cur{i}\", CurrentSpeed) for i, _ in enumerate(orig_problem.current)]\n",
    "    current_speed = upf_problem.add_fluent(\"current_speed\", CurrentSpeed, default_initial_value=current_speeds[0])\n",
    "\n",
    "    for i, c in enumerate(orig_problem.current):\n",
    "        if i >= 1:\n",
    "            timing = GlobalStartTiming(convert_timedelta(c.time - orig_problem.start_time))\n",
    "            upf_problem.add_timed_effect(timing, current_speed, current_speeds[i])\n",
    "\n",
    "    #\n",
    "    # Time windows\n",
    "    #\n",
    "    TimeWindowStatus = UserType(\"TimeWindowStatus\")\n",
    "    TimeWindowStatusOutside = upf_problem.add_object(f\"TimeWindowStatusOutside\", TimeWindowStatus)\n",
    "    TimeWindowStatusInside = upf_problem.add_object(f\"TimeWindowStatusInside\", TimeWindowStatus)\n",
    "\n",
    "    job_timewindows = []\n",
    "    for job_idx, job in enumerate(orig_problem.jobs):\n",
    "        if job.earliest_start_time is None and job.latest_completion_time is None:\n",
    "            job_timewindows.append(None)\n",
    "            continue\n",
    "\n",
    "        initial_value = TimeWindowStatusOutside if job.earliest_start_time is not None else TimeWindowStatusInside\n",
    "        tw = upf_problem.add_fluent(f\"tw_j{job_idx}\", TimeWindowStatus, default_initial_value=initial_value)\n",
    "\n",
    "        if job.earliest_start_time is not None:\n",
    "            timing = GlobalStartTiming(convert_timedelta(job.earliest_start_time - orig_problem.start_time))\n",
    "            upf_problem.add_timed_effect(timing, tw, TimeWindowStatusInside)\n",
    "\n",
    "        if job.latest_completion_time is not None:\n",
    "            timing = GlobalStartTiming(convert_timedelta(job.latest_completion_time - orig_problem.start_time))\n",
    "            upf_problem.add_timed_effect(timing, tw, TimeWindowStatusOutside)\n",
    "\n",
    "        job_timewindows.append(tw)\n",
    "\n",
    "    #\n",
    "    # Travel actions\n",
    "    #\n",
    "\n",
    "    for loc1 in orig_problem.locations.keys():\n",
    "        for loc2 in orig_problem.locations.keys():\n",
    "            if loc1 == loc2:\n",
    "                continue\n",
    "\n",
    "            for current_idx, current in enumerate(orig_problem.current):\n",
    "                move_action = DurativeAction(f\"move_{loc1}_{loc2}_cur{current_idx}\")\n",
    "\n",
    "                coords1 = orig_problem.locations[loc1]\n",
    "                coords2 = orig_problem.locations[loc2]\n",
    "                duration = int(\n",
    "                    round(calculate_travel_time(coords1, coords2, orig_problem.auv.speed, current.current_speed))\n",
    "                )\n",
    "\n",
    "                transit_location = upf_problem.add_object(f\"transit_{loc1}_{loc2}_cur{current_idx}\", Location)\n",
    "\n",
    "                move_action.set_fixed_duration(duration)\n",
    "                move_action.add_condition(StartTiming(), Equals(auv_location, locations[loc1]))\n",
    "                move_action.add_effect(StartTiming(), auv_location, transit_location)\n",
    "                move_action.add_effect(EndTiming(), auv_location, locations[loc2])\n",
    "                move_action.add_condition(\n",
    "                    ClosedTimeInterval(StartTiming(), EndTiming()), Equals(current_speed, current_speeds[current_idx])\n",
    "                )\n",
    "\n",
    "                upf_problem.add_action(move_action)\n",
    "\n",
    "    #\n",
    "    # Job actions\n",
    "    #\n",
    "    for i, (job, job_obj) in enumerate(zip(orig_problem.jobs, job_objs)):\n",
    "        job_action = DurativeAction(f\"process_job{i}\")\n",
    "        this_job_status = job_status(job_obj)\n",
    "\n",
    "        job_action.set_fixed_duration(convert_timedelta(job.duration))\n",
    "        job_action.add_condition(StartTiming(), Equals(this_job_status, JobStatusReady))\n",
    "        job_action.add_effect(StartTiming(), this_job_status, JobStatusProcessing)\n",
    "        job_action.add_effect(EndTiming(), this_job_status, JobStatusDone)\n",
    "\n",
    "        job_action.add_condition(\n",
    "            ClosedTimeInterval(StartTiming(), EndTiming()), Equals(auv_location, locations[job.location])\n",
    "        )\n",
    "\n",
    "        if job_timewindows[i] is not None:\n",
    "            job_action.add_condition(\n",
    "                ClosedTimeInterval(StartTiming(), EndTiming()), Equals(job_timewindows[i], TimeWindowStatusInside)\n",
    "            )\n",
    "\n",
    "        upf_problem.add_action(job_action)\n",
    "\n",
    "        # Goal: peform job\n",
    "        upf_problem.add_goal(Equals(this_job_status, JobStatusDone))\n",
    "\n",
    "    # Goal: return to specified location\n",
    "    if orig_problem.auv.return_location is not None:\n",
    "        upf_problem.add_goal(Equals(auv_location, locations[orig_problem.auv.return_location]))\n",
    "\n",
    "    t0 = time.time()\n",
    "    with OneshotPlanner(name=\"paraspace\", problem_kind=upf_problem.kind) as planner:\n",
    "        result = planner.solve(upf_problem)\n",
    "        print(\"%s returned: %s\" % (planner.name, result.plan))\n",
    "\n",
    "    t1 = time.time()\n",
    "    print(f\"Solved AUV problem in {t1-t0:.2f} seconds\")\n",
    "    return result\n"
   ]
  },
  {
   "cell_type": "markdown",
   "id": "b8150d86-3158-4534-aa3c-30bcadad24ee",
   "metadata": {},
   "source": [
    "## Solving example 1"
   ]
  },
  {
   "cell_type": "code",
   "execution_count": 8,
   "id": "ee3d604e-3341-4d4c-835d-5aca224bdebc",
   "metadata": {},
   "outputs": [
    {
     "name": "stdout",
     "output_type": "stream",
     "text": [
      "paraspace returned: TimeTriggeredPlan:\n",
      "    1.0: move_base_inspection1_cur0 [2.0]\n",
      "    3.0: process_job0 [5.0]\n",
      "    8.0: move_inspection1_base_cur0 [2.0]\n",
      "Solved AUV problem in 0.02 seconds\n"
     ]
    },
    {
     "data": {
      "text/plain": [
       "PlanGenerationResult(status=<PlanGenerationResultStatus.SOLVED_SATISFICING: 1>, plan=TimeTriggeredPlan([(1.0, move_base_inspection1_cur0, 2.0), (8.0, move_inspection1_base_cur0, 2.0), (3.0, process_job0, 5.0)]), engine_name='paraspace', metrics=None, log_messages=None)"
      ]
     },
     "execution_count": 8,
     "metadata": {},
     "output_type": "execute_result"
    }
   ],
   "source": [
    "solve(exampleproblem1())"
   ]
  },
  {
   "cell_type": "markdown",
   "id": "2f65147b-5e5f-4f7a-b59b-8347278d3dc6",
   "metadata": {},
   "source": [
    "## Solving example 2"
   ]
  },
  {
   "cell_type": "code",
   "execution_count": 9,
   "id": "acee9f8c-7ba2-4b20-8f57-08aa6e8b7fc5",
   "metadata": {},
   "outputs": [
    {
     "name": "stdout",
     "output_type": "stream",
     "text": [
      "paraspace returned: TimeTriggeredPlan:\n",
      "    1.0: move_base_inspection2_cur0 [10.0]\n",
      "    14.0: move_inspection2_inspection1_cur0 [18.0]\n",
      "    32.0: process_job0 [5.0]\n",
      "    37.0: move_inspection1_inspection2_cur0 [18.0]\n",
      "    55.0: process_job1 [5.0]\n",
      "    60.0: move_inspection2_inspection3_cur1 [4.0]\n",
      "    68.0: process_job2 [5.0]\n",
      "    73.0: move_inspection3_base_cur1 [7.0]\n",
      "Solved AUV problem in 0.03 seconds\n"
     ]
    },
    {
     "name": "stderr",
     "output_type": "stream",
     "text": [
      "/home/bjornarl/repos/sintefparaspace/docs/demo_notebooks/env/lib/python3.10/site-packages/unified_planning/engines/mixins/oneshot_planner.py:76: UserWarning: We cannot establish whether paraspace can solve this problem!\n",
      "  warn(msg)\n"
     ]
    },
    {
     "data": {
      "text/plain": [
       "PlanGenerationResult(status=<PlanGenerationResultStatus.SOLVED_SATISFICING: 1>, plan=TimeTriggeredPlan([(1.0, move_base_inspection2_cur0, 10.0), (14.0, move_inspection2_inspection1_cur0, 18.0), (37.0, move_inspection1_inspection2_cur0, 18.0), (60.0, move_inspection2_inspection3_cur1, 4.0), (73.0, move_inspection3_base_cur1, 7.0), (32.0, process_job0, 5.0), (55.0, process_job1, 5.0), (68.0, process_job2, 5.0)]), engine_name='paraspace', metrics=None, log_messages=None)"
      ]
     },
     "execution_count": 9,
     "metadata": {},
     "output_type": "execute_result"
    }
   ],
   "source": [
    "solve(exampleproblem2())"
   ]
  },
  {
   "attachments": {},
   "cell_type": "markdown",
   "id": "8f237413",
   "metadata": {},
   "source": [
    "# Appendix\n",
    "\n",
    "## Paraspace timeline conversion limitations\n",
    "\n",
    "The planning problem definition used by paraspace is more restricted than the planning problem\n",
    "definition used by the Unified Planning Framework (and PDDL and ANML).\n",
    "`up-paraspace` has two different modes for translating UPF planning problems into\n",
    "the Paraspace timelines problem definition: \n",
    "**classical** conversion and **timelines** conversion. \n",
    "The classical conversion supports finite domain fluents and instantaneous actions, but\n",
    "is not a particularly efficient planner for those types of problems.\n",
    "\n",
    "The timelines conversion produces a problem description that is more efficiently solvable using Paraspace's algorithm, \n",
    "and also supports durative actions, but imposes some restrictions on how the UPF problem is formed. \n",
    "If the `up-paraspace` module can detect that the UPF problem follows a certain pattern, the\n",
    "**timelines** conversion can be used. The pattern is roughly the following:\n",
    "\n",
    " * All (grounded) fluents are either finite domain types (Boolean or UserType), or integers with a \n",
    "    lower bound of zero and no upper bound. Integer fluents are used below as *resources*.\n",
    " * All actions are durative actions with fixed (constant) durations, \n",
    "    and describe an allowed transition from a previous value and a transition to a next value of the same finite-domain fluent.\n",
    "   Conditions and effects must follow the following pattern:\n",
    "      * There is an equality condition at the start of the action, between a fluent (corresponding to the action's transition fluent) and a constant.\n",
    "    *  At the start of the action, there is an effect setting the same fluent (corresponding to the action's transition fluent) to a value.\n",
    "    *  At the end of the action, there is an effect setting the same fluent (corresponding to the action's transition fluent) to a value.\n",
    "   \n",
    "   All of the above conditions/effects must be found in each action. Other conditions may also be applied, but they need to relate start and end  times of a timeline with conditions.  No other effects can be present in the action, except for *increase* and *decrease* effects with the following pattern:\n",
    "    \n",
    "    * At start, an effect may increase a resource by a constant integer amount. If so,         it must also, at end, decrease the same resource by the same amount.         This pattern represents that the action provides a resource.\n",
    "    * At start, an effect may decrease a resource by a constant integer amount.        If so, it must also, at end, increase the same resource by the same amount.        This pattern represents that the action temporarily consumes a (renewable) resource.\n",
    "   \n",
    "For the AUV inspection problem, the timelines conversion will produce a Paraspace problem containing the objects in the diagram below. Each timeline/component has a transition graph describing the allowed sequences of values for that (finite domain) fluent, and \n",
    "the dashed red lines indicate a synchronization condition, forcing the timing of different values to adhere to temporal constraints.\n",
    "\n",
    "\n",
    "\n",
    "<img src=\"./imgs/timelines2.png\" style=\"width: 90%;\"/>"
   ]
  },
  {
   "attachments": {},
   "cell_type": "markdown",
   "id": "b2fe84fd-7ad2-4665-8928-d41e74499062",
   "metadata": {},
   "source": [
    "\n",
    "## Calculating travel times\n",
    "Given two points $P_{0} = (x_{0}, y_{0}, z_{0})$ and $P_{1} = (x_{1}, y_{1}, z_{1})$, we want to calculate the shortest time it takes to get there, given a boat with speed $v_{boat}$ and a contribution from the tide $v_{tide}$. We assume $v_{tide}$ is constant and only contributes in the $y$ direction. We denote the angle from $P_{1}$ to $P_{0}$ in the XY plane with respect to the x-axis as $\\theta$, and the angle between the XY-plane and the z-axis as $\\phi$ (see figure). To adjust for the tide, the boat has to aim in a certain direction $\\theta'$ to compensate for the tide. The resulting velocity vector $\\vec{v}$ should point directly toward $P_{1}$ with speed $v$, giving us a boost if we travel with the tide or slow us down if we travel against the tide. Some simple trigonometry gives:\n",
    "\n",
    "$v_{x} = v\\cos{\\theta}\\cos{\\phi} = v_{boat}\\cos{\\theta'}\\cos{\\phi}$\n",
    "\n",
    "$v_{y} = v\\sin{\\theta}\\cos{\\phi} = v_{boat,y} + v_{tide} = v_{boat}\\sin{\\theta'}\\cos{\\phi} + v_{tide}$,\n",
    "\n",
    "$v_{z} = v\\sin{\\phi} = v_{boat}\\sin{\\phi}$\n",
    "\n",
    "and\n",
    "\n",
    "$v^{2} = v_{x}^{2} + v_{y}^{2} + v_{z}^{2} = v_{boat}^{2}\\cos^{2}{\\theta'}\\cos^{2}{\\phi} + (v_{boat}\\sin{\\theta'}\\cos{\\phi} + v_{tide})^{2} + v_{boat}^{2}\\sin^{2}{\\phi}$.\n",
    "\n",
    "Rearranging the last equation a bit we get\n",
    "\n",
    "$\\sin{\\theta'} = \\frac{v^{2} - v_{boat}^{2} - v_{tide}^{2}}{2v_{boat}v_{tide}\\cos{\\phi}}$\n",
    "\n",
    "Inserting above gives\n",
    "\n",
    "$v\\sin{\\theta}\\cos{\\phi} = v_{boat}\\cos{\\phi}\\frac{v^{2} - v_{boat}^{2} - v_{tide}^{2}}{2v_{boat}v_{tide}\\cos{\\phi}} + v_{tide}$.\n",
    "\n",
    "Solving for $v$ we end up with the following expression for $v(\\theta,\\phi)$:\n",
    "\n",
    "$v(\\theta,\\phi) = v_{tide}(\\sin{\\theta}\\cos{\\phi} \\pm \\sqrt{\\sin^{2}{\\theta}\\cos^{2}{\\phi} + (\\frac{v_{boat}}{v_{tide}})^{2} - 1} )$.\n",
    "\n",
    "Where the two different solutions represent two different outset directions that will reach the goal. (If e.g. $v_{tide} > v_{boat}$ and we want to travel directly along y (i.e. $\\theta = \\frac{\\pi}{2}$ and $\\phi = 0$ which gives $v = v_{tide} \\pm v_{boat}$), traveling both with and against the current will get you there) We always want the maximal speed, so we choose the solution where we add the square root contribution. \n",
    "\n",
    "## From above\n",
    "\n",
    "<img src=\"./imgs/subxy_nosub.png\" style=\"width:50%; margin: auto; background-color: white;\" />\n",
    "\n",
    "\n",
    "## From the side\n",
    "\n",
    "<img src=\"./imgs/subz_nosub.png\"  style=\"width:30%; margin: auto;  background-color: white;\" />\n",
    "\n",
    "\n"
   ]
  }
 ],
 "metadata": {
  "kernelspec": {
   "display_name": "Python 3 (ipykernel)",
   "language": "python",
   "name": "python3"
  },
  "language_info": {
   "codemirror_mode": {
    "name": "ipython",
    "version": 3
   },
   "file_extension": ".py",
   "mimetype": "text/x-python",
   "name": "python",
   "nbconvert_exporter": "python",
   "pygments_lexer": "ipython3",
   "version": "3.10.12"
  }
 },
 "nbformat": 4,
 "nbformat_minor": 5
}
